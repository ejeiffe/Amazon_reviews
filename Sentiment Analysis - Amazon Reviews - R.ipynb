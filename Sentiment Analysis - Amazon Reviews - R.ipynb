{
 "cells": [
  {
   "cell_type": "markdown",
   "metadata": {},
   "source": [
    "# Sentiment Analysis - Amazon Reviews\n",
    "\n",
    "Applying the Naive Bayes and Random Forest Classifiers to a dataset consisting of 1000 product reviews from amazon.com. Reviews are labelled as positive (1) or negative (0)."
   ]
  },
  {
   "cell_type": "markdown",
   "metadata": {},
   "source": [
    "# Preparing the dataset"
   ]
  },
  {
   "cell_type": "code",
   "execution_count": 6,
   "metadata": {},
   "outputs": [],
   "source": [
    "dataset_original = read.delim('amazon_cells_labelled.txt', header = FALSE, quote = '', stringsAsFactors = FALSE)"
   ]
  },
  {
   "cell_type": "code",
   "execution_count": 7,
   "metadata": {},
   "outputs": [
    {
     "data": {
      "text/html": [
       "<table>\n",
       "<thead><tr><th scope=col>V1</th><th scope=col>V2</th></tr></thead>\n",
       "<tbody>\n",
       "\t<tr><td>So there is no way for me to plug it in here in the US unless I go by a converter.</td><td>0                                                                                 </td></tr>\n",
       "\t<tr><td>Good case, Excellent value.                                                       </td><td>1                                                                                 </td></tr>\n",
       "\t<tr><td>Great for the jawbone.                                                            </td><td>1                                                                                 </td></tr>\n",
       "\t<tr><td>Tied to charger for conversations lasting more than 45 minutes.MAJOR PROBLEMS!!   </td><td>0                                                                                 </td></tr>\n",
       "\t<tr><td>The mic is great.                                                                 </td><td>1                                                                                 </td></tr>\n",
       "\t<tr><td>I have to jiggle the plug to get it to line up right to get decent volume.        </td><td>0                                                                                 </td></tr>\n",
       "</tbody>\n",
       "</table>\n"
      ],
      "text/latex": [
       "\\begin{tabular}{r|ll}\n",
       " V1 & V2\\\\\n",
       "\\hline\n",
       "\t So there is no way for me to plug it in here in the US unless I go by a converter. & 0                                                                                 \\\\\n",
       "\t Good case, Excellent value.                                                        & 1                                                                                 \\\\\n",
       "\t Great for the jawbone.                                                             & 1                                                                                 \\\\\n",
       "\t Tied to charger for conversations lasting more than 45 minutes.MAJOR PROBLEMS!!    & 0                                                                                 \\\\\n",
       "\t The mic is great.                                                                  & 1                                                                                 \\\\\n",
       "\t I have to jiggle the plug to get it to line up right to get decent volume.         & 0                                                                                 \\\\\n",
       "\\end{tabular}\n"
      ],
      "text/markdown": [
       "\n",
       "V1 | V2 | \n",
       "|---|---|---|---|---|---|\n",
       "| So there is no way for me to plug it in here in the US unless I go by a converter. | 0                                                                                  | \n",
       "| Good case, Excellent value.                                                        | 1                                                                                  | \n",
       "| Great for the jawbone.                                                             | 1                                                                                  | \n",
       "| Tied to charger for conversations lasting more than 45 minutes.MAJOR PROBLEMS!!    | 0                                                                                  | \n",
       "| The mic is great.                                                                  | 1                                                                                  | \n",
       "| I have to jiggle the plug to get it to line up right to get decent volume.         | 0                                                                                  | \n",
       "\n",
       "\n"
      ],
      "text/plain": [
       "  V1                                                                                \n",
       "1 So there is no way for me to plug it in here in the US unless I go by a converter.\n",
       "2 Good case, Excellent value.                                                       \n",
       "3 Great for the jawbone.                                                            \n",
       "4 Tied to charger for conversations lasting more than 45 minutes.MAJOR PROBLEMS!!   \n",
       "5 The mic is great.                                                                 \n",
       "6 I have to jiggle the plug to get it to line up right to get decent volume.        \n",
       "  V2\n",
       "1 0 \n",
       "2 1 \n",
       "3 1 \n",
       "4 0 \n",
       "5 1 \n",
       "6 0 "
      ]
     },
     "metadata": {},
     "output_type": "display_data"
    }
   ],
   "source": [
    "head(dataset_original)"
   ]
  },
  {
   "cell_type": "code",
   "execution_count": 12,
   "metadata": {},
   "outputs": [
    {
     "data": {
      "text/plain": [
       "      V1                  V2     \n",
       " Length:1000        Min.   :0.0  \n",
       " Class :character   1st Qu.:0.0  \n",
       " Mode  :character   Median :0.5  \n",
       "                    Mean   :0.5  \n",
       "                    3rd Qu.:1.0  \n",
       "                    Max.   :1.0  "
      ]
     },
     "metadata": {},
     "output_type": "display_data"
    }
   ],
   "source": [
    "summary(dataset_original)"
   ]
  },
  {
   "cell_type": "markdown",
   "metadata": {},
   "source": [
    "Cleaning the texts by converting to lowercase, removing non-alphabetic characters and stopwords, applying stemming and stripping excess whitespace:"
   ]
  },
  {
   "cell_type": "code",
   "execution_count": 27,
   "metadata": {},
   "outputs": [],
   "source": [
    "library(tm)\n",
    "library(SnowballC)\n",
    "corpus = VCorpus(VectorSource(dataset_original$V1))\n",
    "corpus = tm_map(corpus, content_transformer(tolower))\n",
    "corpus = tm_map(corpus, removeNumbers)\n",
    "corpus = tm_map(corpus, removePunctuation)\n",
    "corpus = tm_map(corpus, removeWords, stopwords())\n",
    "corpus = tm_map(corpus, stemDocument)\n",
    "corpus = tm_map(corpus, stripWhitespace)"
   ]
  },
  {
   "cell_type": "markdown",
   "metadata": {},
   "source": [
    "Creating the Bag of Words model, removing infrequently used words:"
   ]
  },
  {
   "cell_type": "code",
   "execution_count": 60,
   "metadata": {},
   "outputs": [],
   "source": [
    "dtm = DocumentTermMatrix(corpus)\n",
    "dtm = removeSparseTerms(dtm, 0.999)\n",
    "dataset = as.data.frame(as.matrix(dtm))\n",
    "dataset$Target = dataset_original$V2"
   ]
  },
  {
   "cell_type": "code",
   "execution_count": 61,
   "metadata": {},
   "outputs": [
    {
     "data": {
      "text/html": [
       "<ol class=list-inline>\n",
       "\t<li>1000</li>\n",
       "\t<li>620</li>\n",
       "</ol>\n"
      ],
      "text/latex": [
       "\\begin{enumerate*}\n",
       "\\item 1000\n",
       "\\item 620\n",
       "\\end{enumerate*}\n"
      ],
      "text/markdown": [
       "1. 1000\n",
       "2. 620\n",
       "\n",
       "\n"
      ],
      "text/plain": [
       "[1] 1000  620"
      ]
     },
     "metadata": {},
     "output_type": "display_data"
    }
   ],
   "source": [
    "dim(dataset)"
   ]
  },
  {
   "cell_type": "markdown",
   "metadata": {},
   "source": [
    "Encoding the target feature as a factor:"
   ]
  },
  {
   "cell_type": "code",
   "execution_count": 58,
   "metadata": {},
   "outputs": [],
   "source": [
    "dataset$Target = factor(dataset$Target, levels = c(0, 1))"
   ]
  },
  {
   "cell_type": "markdown",
   "metadata": {},
   "source": [
    "# Train Test Split"
   ]
  },
  {
   "cell_type": "code",
   "execution_count": 59,
   "metadata": {},
   "outputs": [],
   "source": [
    "library(caTools)\n",
    "set.seed(123)\n",
    "split = sample.split(dataset$Target, SplitRatio = 0.8)\n",
    "training_set = subset(dataset, split == TRUE)\n",
    "test_set = subset(dataset, split == FALSE)"
   ]
  },
  {
   "cell_type": "markdown",
   "metadata": {},
   "source": [
    "# Naive Bayes Classifier"
   ]
  },
  {
   "cell_type": "code",
   "execution_count": 62,
   "metadata": {},
   "outputs": [],
   "source": [
    "library(e1071)\n",
    "nb_classifier = naiveBayes(x = training_set[-620],\n",
    "                        y = training_set$Target)"
   ]
  },
  {
   "cell_type": "code",
   "execution_count": 63,
   "metadata": {},
   "outputs": [],
   "source": [
    "y_pred_nb = predict(nb_classifier, newdata = test_set[-620])"
   ]
  },
  {
   "cell_type": "markdown",
   "metadata": {},
   "source": [
    "Confusion matrix:"
   ]
  },
  {
   "cell_type": "code",
   "execution_count": 74,
   "metadata": {},
   "outputs": [
    {
     "name": "stdout",
     "output_type": "stream",
     "text": [
      "   y_pred_nb\n",
      "      0   1\n",
      "  0   0 100\n",
      "  1   1  99\n"
     ]
    }
   ],
   "source": [
    "cm_nb = table(test_set[, 620], y_pred_nb)\n",
    "print(cm_nb)"
   ]
  },
  {
   "cell_type": "markdown",
   "metadata": {},
   "source": [
    "The Naive Bayes model classified all but one of the reviews as positive! "
   ]
  },
  {
   "cell_type": "markdown",
   "metadata": {},
   "source": [
    "# Random Forest Classifier"
   ]
  },
  {
   "cell_type": "code",
   "execution_count": 66,
   "metadata": {},
   "outputs": [],
   "source": [
    "library(randomForest)\n",
    "rf_classifier = randomForest(x = training_set[-620],\n",
    "                          y = training_set$Target,\n",
    "                          ntree = 10)"
   ]
  },
  {
   "cell_type": "code",
   "execution_count": 67,
   "metadata": {},
   "outputs": [],
   "source": [
    "y_pred_rf = predict(rf_classifier, newdata = test_set[-620])"
   ]
  },
  {
   "cell_type": "code",
   "execution_count": 75,
   "metadata": {},
   "outputs": [
    {
     "name": "stdout",
     "output_type": "stream",
     "text": [
      "   y_pred_rf\n",
      "     0  1\n",
      "  0 85 15\n",
      "  1 21 79\n"
     ]
    }
   ],
   "source": [
    "cm_rf = table(test_set[, 620], y_pred_rf)\n",
    "print(cm_rf)"
   ]
  },
  {
   "cell_type": "markdown",
   "metadata": {},
   "source": [
    "The Random Forest model performed much better than the Naive Bayes classifier. "
   ]
  },
  {
   "cell_type": "code",
   "execution_count": 83,
   "metadata": {},
   "outputs": [],
   "source": [
    "accuracy = (79 + 85)/200\n",
    "precision = 79/(79+15)\n",
    "recall = 79/(79+21)\n",
    "F1 = 2 * precision * recall / (precision + recall)\n",
    "\n",
    "rf_summary = data.frame(accuracy, precision, recall, F1)"
   ]
  },
  {
   "cell_type": "code",
   "execution_count": 85,
   "metadata": {},
   "outputs": [
    {
     "data": {
      "text/html": [
       "<table>\n",
       "<thead><tr><th scope=col>accuracy</th><th scope=col>precision</th><th scope=col>recall</th><th scope=col>F1</th></tr></thead>\n",
       "<tbody>\n",
       "\t<tr><td>0.82     </td><td>0.8404255</td><td>0.79     </td><td>0.814433 </td></tr>\n",
       "</tbody>\n",
       "</table>\n"
      ],
      "text/latex": [
       "\\begin{tabular}{r|llll}\n",
       " accuracy & precision & recall & F1\\\\\n",
       "\\hline\n",
       "\t 0.82      & 0.8404255 & 0.79      & 0.814433 \\\\\n",
       "\\end{tabular}\n"
      ],
      "text/markdown": [
       "\n",
       "accuracy | precision | recall | F1 | \n",
       "|---|\n",
       "| 0.82      | 0.8404255 | 0.79      | 0.814433  | \n",
       "\n",
       "\n"
      ],
      "text/plain": [
       "  accuracy precision recall F1      \n",
       "1 0.82     0.8404255 0.79   0.814433"
      ]
     },
     "metadata": {},
     "output_type": "display_data"
    }
   ],
   "source": [
    "head(rf_summary)"
   ]
  }
 ],
 "metadata": {
  "kernelspec": {
   "display_name": "R",
   "language": "R",
   "name": "ir"
  },
  "language_info": {
   "codemirror_mode": "r",
   "file_extension": ".r",
   "mimetype": "text/x-r-source",
   "name": "R",
   "pygments_lexer": "r",
   "version": "3.5.0"
  }
 },
 "nbformat": 4,
 "nbformat_minor": 2
}
